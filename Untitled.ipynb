{
 "cells": [
  {
   "cell_type": "code",
   "execution_count": null,
   "source": [],
   "outputs": [],
   "metadata": {}
  },
  {
   "cell_type": "code",
   "execution_count": 7,
   "source": [
    "import requests\r\n",
    "import bs4\r\n",
    "result = requests.get('http://www.example.com')"
   ],
   "outputs": [],
   "metadata": {}
  },
  {
   "cell_type": "code",
   "execution_count": 8,
   "source": [
    "soup = bs4.BeautifulSoup(result.text,'lxml')"
   ],
   "outputs": [],
   "metadata": {}
  },
  {
   "cell_type": "code",
   "execution_count": 9,
   "source": [
    "soup"
   ],
   "outputs": [
    {
     "output_type": "execute_result",
     "data": {
      "text/plain": [
       "<!DOCTYPE html>\n",
       "<html>\n",
       "<head>\n",
       "<title>Example Domain</title>\n",
       "<meta charset=\"utf-8\"/>\n",
       "<meta content=\"text/html; charset=utf-8\" http-equiv=\"Content-type\"/>\n",
       "<meta content=\"width=device-width, initial-scale=1\" name=\"viewport\"/>\n",
       "<style type=\"text/css\">\n",
       "    body {\n",
       "        background-color: #f0f0f2;\n",
       "        margin: 0;\n",
       "        padding: 0;\n",
       "        font-family: -apple-system, system-ui, BlinkMacSystemFont, \"Segoe UI\", \"Open Sans\", \"Helvetica Neue\", Helvetica, Arial, sans-serif;\n",
       "        \n",
       "    }\n",
       "    div {\n",
       "        width: 600px;\n",
       "        margin: 5em auto;\n",
       "        padding: 2em;\n",
       "        background-color: #fdfdff;\n",
       "        border-radius: 0.5em;\n",
       "        box-shadow: 2px 3px 7px 2px rgba(0,0,0,0.02);\n",
       "    }\n",
       "    a:link, a:visited {\n",
       "        color: #38488f;\n",
       "        text-decoration: none;\n",
       "    }\n",
       "    @media (max-width: 700px) {\n",
       "        div {\n",
       "            margin: 0 auto;\n",
       "            width: auto;\n",
       "        }\n",
       "    }\n",
       "    </style>\n",
       "</head>\n",
       "<body>\n",
       "<div>\n",
       "<h1>Example Domain</h1>\n",
       "<p>This domain is for use in illustrative examples in documents. You may use this\n",
       "    domain in literature without prior coordination or asking for permission.</p>\n",
       "<p><a href=\"https://www.iana.org/domains/example\">More information...</a></p>\n",
       "</div>\n",
       "</body>\n",
       "</html>"
      ]
     },
     "metadata": {},
     "execution_count": 9
    }
   ],
   "metadata": {}
  },
  {
   "cell_type": "code",
   "execution_count": 15,
   "source": [
    "res = requests.get('https://kenh14.vn/')"
   ],
   "outputs": [],
   "metadata": {}
  },
  {
   "cell_type": "code",
   "execution_count": 16,
   "source": [
    "soup1 = bs4.BeautifulSoup(res.text,'lxml')\r\n",
    "#soup1\r\n"
   ],
   "outputs": [],
   "metadata": {}
  },
  {
   "cell_type": "code",
   "execution_count": 22,
   "source": [
    "soup1.select('img')"
   ],
   "outputs": [
    {
     "output_type": "execute_result",
     "data": {
      "text/plain": [
       "[<img alt=\"Quizz\" src=\"https://kenh14cdn.com/zoom/190_70/2016/cover-quizz-1458020660190.jpg\"/>,\n",
       " <img alt=\"eMagazine\" src=\"https://kenh14cdn.com/zoom/190_70/2016/magazine-cover-1470901702968.jpg\"/>,\n",
       " <img alt=\"Đọc Chậm\" src=\"https://kenh14cdn.com/zoom/190_70/2016/cover-doc-cham-1477989772612.jpg\"/>,\n",
       " <img alt=\"Hậu phương tiếp sức\" src=\"https://kenh14cdn.com/zoom/190_70/203336854389633024/2021/5/31/trending-tag-16224352162401808160517.jpg\"/>,\n",
       " <img alt=\"Ổ dịch liên quan quận Long Biên tăng lên 12 ca, liệu có ảnh hưởng việc Hà Nội nới lỏng giãn cách xã hội?\" src=\"https://kenh14cdn.com/zoom/460_289/203336854389633024/2021/9/19/photo1632032899297-1632032899493214950751.jpg\"/>,\n",
       " <img alt=\"Bộ Y tế: Chưa có dữ liệu để đánh giá hiệu lực bảo vệ của vaccine Nanocovax\" src=\"https://kenh14cdn.com/zoom/220_289/203336854389633024/2021/9/19/photo1632025669077-16320256691402076241601.jpeg\"/>,\n",
       " <img alt='Mua bánh Trung thu \"mùa Covid-19\": Dùng tem phiếu xếp hàng như thời bao cấp, mua được hộp bánh truyền thống là ai cũng mừng' src=\"https://kenh14cdn.com/zoom/280_175/203336854389633024/2021/9/19/photo1632030117320-1632030117538356824575.png\"/>,\n",
       " <img alt='Người Sài Gòn \"cắt cơn\" thèm cafe nhờ 2 ông lớn Highlands và Katinat mở bán trên app: Cầm ly nước xúc động tưởng xuân đang về!' src=\"https://kenh14cdn.com/zoom/280_175/203336854389633024/2021/9/18/photo1631983380884-16319833810941035621435.jpg\"/>,\n",
       " <img alt=\"Ảnh: 2 ngày trước Trung thu, người Hà Nội xếp hàng rồng rắn dưới nắng 35 độ chờ mua bánh Bảo Phương\" src=\"https://kenh14cdn.com/zoom/280_175/203336854389633024/2021/9/19/photo1632026477896-1632026478113196247526.jpg\"/>,\n",
       " <img alt='Bị mỉa mai bằng lời ác ý liên quan đến con gái chung với Jack, Thiên An đáp trả khiến antifan \"cứng họng\"?' src=\"https://kenh14cdn.com/zoom/280_175/203336854389633024/2021/9/19/photo1632019857322-1632019857571862874515.png\"/>,\n",
       " <img alt='Rich kid Chao hé lộ động thái của người nhà cô chủ shop với các \"nạn nhân\" trong vụ tố quỵt tiền đang ồn ào' src=\"https://kenh14cdn.com/zoom/280_175/203336854389633024/2021/9/19/photo1632024049951-16320240502751909541984.jpg\"/>,\n",
       " <img alt='Hằng Túi công khai hoá đơn chuyển 80 triệu từ thiện lũ lụt cho Thuỷ Tiên, nhờ dân mạng \"tìm giúp em\" ở 18.000 tờ sao kê' src=\"https://kenh14cdn.com/zoom/280_175/203336854389633024/2021/9/18/photo1631976734513-1631976734733105048638.png\"/>,\n",
       " <img alt='Sex Education 3: Không \"chết chìm\" trong ngồn ngộn cảnh nóng, những bài học giáo dục giới tính xuất sắc hơn bao giờ hết!' src=\"https://kenh14cdn.com/zoom/280_175/203336854389633024/2021/9/18/photo1631973115440-16319731164011985229804.jpg\"/>,\n",
       " <img alt='Bà Phương Hằng \"quay xe\" tuyên bố livestream trở lại, cảnh báo các tài khoản giả mạo đi bình luận dạo: \"Tôi không có thời gian đi bình luận khắp trang của người khác\"' src=\"https://kenh14cdn.com/zoom/260_163/203336854389633024/2021/9/18/photo1631951501204-16319515013591929552070.jpg\"/>,\n",
       " <img alt='Hằng Túi công khai hoá đơn chuyển 80 triệu từ thiện lũ lụt cho Thuỷ Tiên, nhờ dân mạng \"tìm giúp em\" ở 18.000 tờ sao kê' src=\"https://kenh14cdn.com/zoom/260_163/203336854389633024/2021/9/18/photo1631976734513-1631976734733105048638.png\"/>,\n",
       " <img alt=\"Mở thùng hải sản ship, khách sốc vì chỉ có 1 con tôm, vội nhìn lại đơn đặt hàng thì liền phải thốt lên: Shop quá tuyệt vời!\" src=\"https://kenh14cdn.com/zoom/260_163/203336854389633024/2021/9/18/photo1631973217507-16319732178381824093015.png\"/>,\n",
       " <img alt='Lại gần giúp con trai chỉnh máy tính học online, bà mẹ để lộ hình ảnh \"hớ hênh\" khiến cả lớp ngượng chín mặt' src=\"https://kenh14cdn.com/zoom/260_163/203336854389633024/2021/9/18/photo1631947507541-1631947508276306646205.jpeg\"/>,\n",
       " <img alt=\"Cận cảnh khám xét nhà trọ của nữ nhân viên trộm 2.380 nhẫn vàng trị giá gần 10 tỷ: Thu giữ hàng trăm giấy tờ cầm đồ\" src=\"https://kenh14cdn.com/zoom/260_163/203336854389633024/2021/9/18/photo1631961456536-1631961458940884471752.jpg\"/>,\n",
       " <img alt=\"Cuộc sống thông minh\" src=\"https://kenh14cdn.com/web_images/cstm-home-logo.png\" width=\"100%\"/>]"
      ]
     },
     "metadata": {},
     "execution_count": 22
    }
   ],
   "metadata": {}
  },
  {
   "cell_type": "code",
   "execution_count": 25,
   "source": [
    "computer = soup1.select('img')[4]\r\n"
   ],
   "outputs": [],
   "metadata": {}
  },
  {
   "cell_type": "code",
   "execution_count": 26,
   "source": [
    "computer"
   ],
   "outputs": [
    {
     "output_type": "execute_result",
     "data": {
      "text/plain": [
       "<img alt=\"Ổ dịch liên quan quận Long Biên tăng lên 12 ca, liệu có ảnh hưởng việc Hà Nội nới lỏng giãn cách xã hội?\" src=\"https://kenh14cdn.com/zoom/460_289/203336854389633024/2021/9/19/photo1632032899297-1632032899493214950751.jpg\"/>"
      ]
     },
     "metadata": {},
     "execution_count": 26
    }
   ],
   "metadata": {}
  },
  {
   "cell_type": "code",
   "execution_count": 27,
   "source": [
    "computer['src']"
   ],
   "outputs": [
    {
     "output_type": "execute_result",
     "data": {
      "text/plain": [
       "'https://kenh14cdn.com/zoom/460_289/203336854389633024/2021/9/19/photo1632032899297-1632032899493214950751.jpg'"
      ]
     },
     "metadata": {},
     "execution_count": 27
    }
   ],
   "metadata": {}
  },
  {
   "cell_type": "code",
   "execution_count": 38,
   "source": [
    "img_link = requests.get('https://kenh14cdn.com/zoom/460_289/203336854389633024/2021/9/19/photo1632032899297-1632032899493214950751.jpg')\r\n"
   ],
   "outputs": [],
   "metadata": {}
  },
  {
   "cell_type": "code",
   "execution_count": 33,
   "source": [
    "f = open('C:\\\\Users\\\\84948\\\\Desktop\\\\kenh14.jpg','wb')\r\n",
    "f.write(img_link.content)\r\n",
    "f.close()"
   ],
   "outputs": [],
   "metadata": {}
  },
  {
   "cell_type": "code",
   "execution_count": 34,
   "source": [
    "pwd"
   ],
   "outputs": [
    {
     "output_type": "execute_result",
     "data": {
      "text/plain": [
       "'c:\\\\Users\\\\84948\\\\Desktop\\\\Complete-Python-3-Bootcamp-master'"
      ]
     },
     "metadata": {},
     "execution_count": 34
    }
   ],
   "metadata": {}
  },
  {
   "cell_type": "code",
   "execution_count": 5,
   "source": [
    "import requests\r\n",
    "import bs4"
   ],
   "outputs": [],
   "metadata": {}
  },
  {
   "cell_type": "code",
   "execution_count": 6,
   "source": [
    "base_url = 'https://books.toscrape.com/catalogue/page-{}.html'"
   ],
   "outputs": [],
   "metadata": {}
  },
  {
   "cell_type": "code",
   "execution_count": 7,
   "source": [
    "res = requests.get(base_url.format(1))"
   ],
   "outputs": [],
   "metadata": {}
  },
  {
   "cell_type": "code",
   "execution_count": 8,
   "source": [
    "soup= bs4.BeautifulSoup(res.text,'lxml')"
   ],
   "outputs": [],
   "metadata": {}
  },
  {
   "cell_type": "code",
   "execution_count": 11,
   "source": [
    "product =soup.select('.product_pod')"
   ],
   "outputs": [],
   "metadata": {}
  },
  {
   "cell_type": "code",
   "execution_count": 21,
   "source": [
    "example = product[0]"
   ],
   "outputs": [],
   "metadata": {}
  },
  {
   "cell_type": "code",
   "execution_count": 22,
   "source": [
    "'star-rating Two' in str(example) "
   ],
   "outputs": [
    {
     "output_type": "execute_result",
     "data": {
      "text/plain": [
       "False"
      ]
     },
     "metadata": {},
     "execution_count": 22
    }
   ],
   "metadata": {}
  },
  {
   "cell_type": "code",
   "execution_count": 27,
   "source": [
    "example.select('.star-rating.Three')"
   ],
   "outputs": [
    {
     "output_type": "execute_result",
     "data": {
      "text/plain": [
       "[<p class=\"star-rating Three\">\n",
       " <i class=\"icon-star\"></i>\n",
       " <i class=\"icon-star\"></i>\n",
       " <i class=\"icon-star\"></i>\n",
       " <i class=\"icon-star\"></i>\n",
       " <i class=\"icon-star\"></i>\n",
       " </p>]"
      ]
     },
     "metadata": {},
     "execution_count": 27
    }
   ],
   "metadata": {}
  },
  {
   "cell_type": "code",
   "execution_count": null,
   "source": [],
   "outputs": [],
   "metadata": {}
  },
  {
   "cell_type": "code",
   "execution_count": null,
   "source": [],
   "outputs": [],
   "metadata": {}
  },
  {
   "cell_type": "code",
   "execution_count": null,
   "source": [],
   "outputs": [],
   "metadata": {}
  },
  {
   "cell_type": "code",
   "execution_count": null,
   "source": [],
   "outputs": [],
   "metadata": {}
  },
  {
   "cell_type": "code",
   "execution_count": null,
   "source": [],
   "outputs": [],
   "metadata": {}
  }
 ],
 "metadata": {
  "kernelspec": {
   "name": "python3",
   "display_name": "Python 3.8.8 64-bit ('base': conda)"
  },
  "language_info": {
   "codemirror_mode": {
    "name": "ipython",
    "version": 3
   },
   "file_extension": ".py",
   "mimetype": "text/x-python",
   "name": "python",
   "nbconvert_exporter": "python",
   "pygments_lexer": "ipython3",
   "version": "3.8.8"
  },
  "interpreter": {
   "hash": "1343dd182ee7a925c2fcdd0e3ab758702907cd8a361f6a4fcb95586f1f6081c2"
  }
 },
 "nbformat": 4,
 "nbformat_minor": 5
}