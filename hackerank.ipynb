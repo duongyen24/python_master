{
 "cells": [
  {
   "cell_type": "code",
   "execution_count": 1,
   "source": [
    "n = int(input().strip()) #take only input clear the whitespace\r\n",
    "check = {True: \"Not Weird\", False: \"Weird\"}\r\n",
    "\r\n",
    "print(check[\r\n",
    "        n%2==0 and (\r\n",
    "            n in range(2,6) or \r\n",
    "            n > 20)\r\n",
    "    ])\r\n",
    "\t"
   ],
   "outputs": [
    {
     "output_type": "stream",
     "name": "stdout",
     "text": [
      "Weird\n"
     ]
    }
   ],
   "metadata": {}
  },
  {
   "cell_type": "code",
   "execution_count": null,
   "source": [
    "print ([[a,b,c] for a in range(x+1) for b in range(y+1) for c in range(z+1) if a + b + c != n ])"
   ],
   "outputs": [],
   "metadata": {}
  },
  {
   "cell_type": "code",
   "execution_count": 11,
   "source": [
    "#n = int(input())\r\n",
    "arr = list(map(int, input().split()))\r\n",
    "print(arr)"
   ],
   "outputs": [],
   "metadata": {}
  },
  {
   "cell_type": "code",
   "execution_count": null,
   "source": [],
   "outputs": [],
   "metadata": {}
  }
 ],
 "metadata": {
  "kernelspec": {
   "name": "python3",
   "display_name": "Python 3.8.8 64-bit ('base': conda)"
  },
  "language_info": {
   "codemirror_mode": {
    "name": "ipython",
    "version": 3
   },
   "file_extension": ".py",
   "mimetype": "text/x-python",
   "name": "python",
   "nbconvert_exporter": "python",
   "pygments_lexer": "ipython3",
   "version": "3.8.8"
  },
  "interpreter": {
   "hash": "1343dd182ee7a925c2fcdd0e3ab758702907cd8a361f6a4fcb95586f1f6081c2"
  }
 },
 "nbformat": 4,
 "nbformat_minor": 5
}